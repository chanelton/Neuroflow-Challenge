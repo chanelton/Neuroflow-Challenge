{
 "cells": [
  {
   "cell_type": "markdown",
   "metadata": {},
   "source": [
    "# NeuroFlow Data Challenge\n",
    "Elton Chan"
   ]
  },
  {
   "cell_type": "code",
   "execution_count": 29,
   "metadata": {},
   "outputs": [],
   "source": [
    "import pandas as pd\n",
    "import numpy as np\n",
    "import matplotlib.pyplot as plt\n",
    "import seaborn as sns\n",
    "import sys\n",
    "from time import sleep"
   ]
  },
  {
   "cell_type": "markdown",
   "metadata": {},
   "source": [
    "## Part 1:"
   ]
  },
  {
   "cell_type": "code",
   "execution_count": 164,
   "metadata": {},
   "outputs": [
    {
     "data": {
      "text/html": [
       "<div>\n",
       "<style scoped>\n",
       "    .dataframe tbody tr th:only-of-type {\n",
       "        vertical-align: middle;\n",
       "    }\n",
       "\n",
       "    .dataframe tbody tr th {\n",
       "        vertical-align: top;\n",
       "    }\n",
       "\n",
       "    .dataframe thead th {\n",
       "        text-align: right;\n",
       "    }\n",
       "</style>\n",
       "<table border=\"1\" class=\"dataframe\">\n",
       "  <thead>\n",
       "    <tr style=\"text-align: right;\">\n",
       "      <th></th>\n",
       "      <th>date</th>\n",
       "      <th>patient_id</th>\n",
       "      <th>type</th>\n",
       "      <th>patient_date_created</th>\n",
       "      <th>score</th>\n",
       "    </tr>\n",
       "  </thead>\n",
       "  <tbody>\n",
       "    <tr>\n",
       "      <th>0</th>\n",
       "      <td>2019-08-26T13:32:43.019162</td>\n",
       "      <td>8430</td>\n",
       "      <td>gad7</td>\n",
       "      <td>2019-06-03T13:23:02.63568</td>\n",
       "      <td>6</td>\n",
       "    </tr>\n",
       "    <tr>\n",
       "      <th>1</th>\n",
       "      <td>2019-11-15T17:55:11.364877</td>\n",
       "      <td>8430</td>\n",
       "      <td>gad7</td>\n",
       "      <td>2019-06-03T13:23:02.63568</td>\n",
       "      <td>1</td>\n",
       "    </tr>\n",
       "    <tr>\n",
       "      <th>2</th>\n",
       "      <td>2019-10-07T18:23:29.611351</td>\n",
       "      <td>14338</td>\n",
       "      <td>gad7</td>\n",
       "      <td>2019-06-03T13:32:30.66846</td>\n",
       "      <td>10</td>\n",
       "    </tr>\n",
       "    <tr>\n",
       "      <th>3</th>\n",
       "      <td>2019-11-04T20:16:28.610965</td>\n",
       "      <td>14338</td>\n",
       "      <td>gad7</td>\n",
       "      <td>2019-06-03T13:32:30.66846</td>\n",
       "      <td>7</td>\n",
       "    </tr>\n",
       "    <tr>\n",
       "      <th>4</th>\n",
       "      <td>2019-12-02T20:56:55.966354</td>\n",
       "      <td>14338</td>\n",
       "      <td>gad7</td>\n",
       "      <td>2019-06-03T13:32:30.66846</td>\n",
       "      <td>9</td>\n",
       "    </tr>\n",
       "  </tbody>\n",
       "</table>\n",
       "</div>"
      ],
      "text/plain": [
       "                         date  patient_id  type       patient_date_created  \\\n",
       "0  2019-08-26T13:32:43.019162        8430  gad7  2019-06-03T13:23:02.63568   \n",
       "1  2019-11-15T17:55:11.364877        8430  gad7  2019-06-03T13:23:02.63568   \n",
       "2  2019-10-07T18:23:29.611351       14338  gad7  2019-06-03T13:32:30.66846   \n",
       "3  2019-11-04T20:16:28.610965       14338  gad7  2019-06-03T13:32:30.66846   \n",
       "4  2019-12-02T20:56:55.966354       14338  gad7  2019-06-03T13:32:30.66846   \n",
       "\n",
       "   score  \n",
       "0      6  \n",
       "1      1  \n",
       "2     10  \n",
       "3      7  \n",
       "4      9  "
      ]
     },
     "execution_count": 164,
     "metadata": {},
     "output_type": "execute_result"
    }
   ],
   "source": [
    "data = pd.read_csv('phq_all_final.csv')\n",
    "data.head(5)"
   ]
  },
  {
   "cell_type": "code",
   "execution_count": 165,
   "metadata": {},
   "outputs": [
    {
     "data": {
      "text/plain": [
       "(53698, 5)"
      ]
     },
     "execution_count": 165,
     "metadata": {},
     "output_type": "execute_result"
    }
   ],
   "source": [
    "data.shape"
   ]
  },
  {
   "cell_type": "code",
   "execution_count": 166,
   "metadata": {},
   "outputs": [
    {
     "data": {
      "text/plain": [
       "date                    object\n",
       "patient_id               int64\n",
       "type                    object\n",
       "patient_date_created    object\n",
       "score                    int64\n",
       "dtype: object"
      ]
     },
     "execution_count": 166,
     "metadata": {},
     "output_type": "execute_result"
    }
   ],
   "source": [
    "# cleaning data\n",
    "data.dtypes"
   ]
  },
  {
   "cell_type": "code",
   "execution_count": 167,
   "metadata": {},
   "outputs": [
    {
     "data": {
      "text/plain": [
       "date                    datetime64[ns]\n",
       "patient_id                       int64\n",
       "type                            object\n",
       "patient_date_created    datetime64[ns]\n",
       "score                            int64\n",
       "dtype: object"
      ]
     },
     "execution_count": 167,
     "metadata": {},
     "output_type": "execute_result"
    }
   ],
   "source": [
    "# converting date and patient_date_created to datetime for easier analysis\n",
    "data['date'] = pd.to_datetime(data['date'])\n",
    "data['patient_date_created'] = pd.to_datetime(data['patient_date_created'])\n",
    "data.dtypes"
   ]
  },
  {
   "cell_type": "code",
   "execution_count": 168,
   "metadata": {},
   "outputs": [
    {
     "data": {
      "text/plain": [
       "gad7    53698\n",
       "Name: type, dtype: int64"
      ]
     },
     "execution_count": 168,
     "metadata": {},
     "output_type": "execute_result"
    }
   ],
   "source": [
    "# all test types are gad7, meaning row is useless\n",
    "data['type'].value_counts()"
   ]
  },
  {
   "cell_type": "code",
   "execution_count": 169,
   "metadata": {},
   "outputs": [
    {
     "data": {
      "text/html": [
       "<div>\n",
       "<style scoped>\n",
       "    .dataframe tbody tr th:only-of-type {\n",
       "        vertical-align: middle;\n",
       "    }\n",
       "\n",
       "    .dataframe tbody tr th {\n",
       "        vertical-align: top;\n",
       "    }\n",
       "\n",
       "    .dataframe thead th {\n",
       "        text-align: right;\n",
       "    }\n",
       "</style>\n",
       "<table border=\"1\" class=\"dataframe\">\n",
       "  <thead>\n",
       "    <tr style=\"text-align: right;\">\n",
       "      <th></th>\n",
       "      <th>date</th>\n",
       "      <th>patient_id</th>\n",
       "      <th>patient_date_created</th>\n",
       "      <th>score</th>\n",
       "    </tr>\n",
       "  </thead>\n",
       "  <tbody>\n",
       "    <tr>\n",
       "      <th>0</th>\n",
       "      <td>2019-08-26 13:32:43.019162</td>\n",
       "      <td>8430</td>\n",
       "      <td>2019-06-03 13:23:02.635680</td>\n",
       "      <td>6</td>\n",
       "    </tr>\n",
       "    <tr>\n",
       "      <th>1</th>\n",
       "      <td>2019-11-15 17:55:11.364877</td>\n",
       "      <td>8430</td>\n",
       "      <td>2019-06-03 13:23:02.635680</td>\n",
       "      <td>1</td>\n",
       "    </tr>\n",
       "    <tr>\n",
       "      <th>2</th>\n",
       "      <td>2019-10-07 18:23:29.611351</td>\n",
       "      <td>14338</td>\n",
       "      <td>2019-06-03 13:32:30.668460</td>\n",
       "      <td>10</td>\n",
       "    </tr>\n",
       "    <tr>\n",
       "      <th>3</th>\n",
       "      <td>2019-11-04 20:16:28.610965</td>\n",
       "      <td>14338</td>\n",
       "      <td>2019-06-03 13:32:30.668460</td>\n",
       "      <td>7</td>\n",
       "    </tr>\n",
       "    <tr>\n",
       "      <th>4</th>\n",
       "      <td>2019-12-02 20:56:55.966354</td>\n",
       "      <td>14338</td>\n",
       "      <td>2019-06-03 13:32:30.668460</td>\n",
       "      <td>9</td>\n",
       "    </tr>\n",
       "  </tbody>\n",
       "</table>\n",
       "</div>"
      ],
      "text/plain": [
       "                        date  patient_id       patient_date_created  score\n",
       "0 2019-08-26 13:32:43.019162        8430 2019-06-03 13:23:02.635680      6\n",
       "1 2019-11-15 17:55:11.364877        8430 2019-06-03 13:23:02.635680      1\n",
       "2 2019-10-07 18:23:29.611351       14338 2019-06-03 13:32:30.668460     10\n",
       "3 2019-11-04 20:16:28.610965       14338 2019-06-03 13:32:30.668460      7\n",
       "4 2019-12-02 20:56:55.966354       14338 2019-06-03 13:32:30.668460      9"
      ]
     },
     "execution_count": 169,
     "metadata": {},
     "output_type": "execute_result"
    }
   ],
   "source": [
    "# drop it\n",
    "data = data.drop(columns = ['type'])\n",
    "data.head()"
   ]
  },
  {
   "cell_type": "code",
   "execution_count": 74,
   "metadata": {},
   "outputs": [
    {
     "data": {
      "text/plain": [
       "(10687    84\n",
       " 6574     42\n",
       " 12307    38\n",
       " 13874    34\n",
       " 13855    34\n",
       " Name: patient_id, dtype: int64,\n",
       " '15502 unique patients')"
      ]
     },
     "execution_count": 74,
     "metadata": {},
     "output_type": "execute_result"
    }
   ],
   "source": [
    "# see how many times each patient comes up\n",
    "data['patient_id'].value_counts()[:5], f\"{len(data['patient_id'].value_counts())} unique patients\""
   ]
  },
  {
   "cell_type": "code",
   "execution_count": 30,
   "metadata": {},
   "outputs": [
    {
     "name": "stdout",
     "output_type": "stream",
     "text": [
      "[====================] 100%"
     ]
    },
    {
     "data": {
      "text/html": [
       "<div>\n",
       "<style scoped>\n",
       "    .dataframe tbody tr th:only-of-type {\n",
       "        vertical-align: middle;\n",
       "    }\n",
       "\n",
       "    .dataframe tbody tr th {\n",
       "        vertical-align: top;\n",
       "    }\n",
       "\n",
       "    .dataframe thead th {\n",
       "        text-align: right;\n",
       "    }\n",
       "</style>\n",
       "<table border=\"1\" class=\"dataframe\">\n",
       "  <thead>\n",
       "    <tr style=\"text-align: right;\">\n",
       "      <th></th>\n",
       "      <th>date</th>\n",
       "      <th>patient_id</th>\n",
       "      <th>patient_date_created</th>\n",
       "      <th>score</th>\n",
       "      <th>running_count</th>\n",
       "    </tr>\n",
       "  </thead>\n",
       "  <tbody>\n",
       "    <tr>\n",
       "      <th>0</th>\n",
       "      <td>2019-08-26 13:32:43.019162</td>\n",
       "      <td>8430</td>\n",
       "      <td>2019-06-03 13:23:02.635680</td>\n",
       "      <td>6</td>\n",
       "      <td>1</td>\n",
       "    </tr>\n",
       "    <tr>\n",
       "      <th>1</th>\n",
       "      <td>2019-11-15 17:55:11.364877</td>\n",
       "      <td>8430</td>\n",
       "      <td>2019-06-03 13:23:02.635680</td>\n",
       "      <td>1</td>\n",
       "      <td>2</td>\n",
       "    </tr>\n",
       "    <tr>\n",
       "      <th>2</th>\n",
       "      <td>2019-10-07 18:23:29.611351</td>\n",
       "      <td>14338</td>\n",
       "      <td>2019-06-03 13:32:30.668460</td>\n",
       "      <td>10</td>\n",
       "      <td>1</td>\n",
       "    </tr>\n",
       "    <tr>\n",
       "      <th>3</th>\n",
       "      <td>2019-11-04 20:16:28.610965</td>\n",
       "      <td>14338</td>\n",
       "      <td>2019-06-03 13:32:30.668460</td>\n",
       "      <td>7</td>\n",
       "      <td>2</td>\n",
       "    </tr>\n",
       "    <tr>\n",
       "      <th>4</th>\n",
       "      <td>2019-12-02 20:56:55.966354</td>\n",
       "      <td>14338</td>\n",
       "      <td>2019-06-03 13:32:30.668460</td>\n",
       "      <td>9</td>\n",
       "      <td>3</td>\n",
       "    </tr>\n",
       "    <tr>\n",
       "      <th>5</th>\n",
       "      <td>2019-09-17 14:08:49.642430</td>\n",
       "      <td>17028</td>\n",
       "      <td>2019-06-03 14:24:06.741810</td>\n",
       "      <td>6</td>\n",
       "      <td>1</td>\n",
       "    </tr>\n",
       "    <tr>\n",
       "      <th>6</th>\n",
       "      <td>2019-11-11 14:42:40.889057</td>\n",
       "      <td>17028</td>\n",
       "      <td>2019-06-03 14:24:06.741810</td>\n",
       "      <td>9</td>\n",
       "      <td>2</td>\n",
       "    </tr>\n",
       "    <tr>\n",
       "      <th>7</th>\n",
       "      <td>2019-06-07 13:05:01.435941</td>\n",
       "      <td>3788</td>\n",
       "      <td>2019-06-03 14:48:09.129756</td>\n",
       "      <td>0</td>\n",
       "      <td>1</td>\n",
       "    </tr>\n",
       "    <tr>\n",
       "      <th>8</th>\n",
       "      <td>2019-06-14 12:31:58.918124</td>\n",
       "      <td>3788</td>\n",
       "      <td>2019-06-03 14:48:09.129756</td>\n",
       "      <td>0</td>\n",
       "      <td>2</td>\n",
       "    </tr>\n",
       "    <tr>\n",
       "      <th>9</th>\n",
       "      <td>2019-06-14 12:32:23.674673</td>\n",
       "      <td>3788</td>\n",
       "      <td>2019-06-03 14:48:09.129756</td>\n",
       "      <td>0</td>\n",
       "      <td>3</td>\n",
       "    </tr>\n",
       "  </tbody>\n",
       "</table>\n",
       "</div>"
      ],
      "text/plain": [
       "                        date  patient_id       patient_date_created  score  \\\n",
       "0 2019-08-26 13:32:43.019162        8430 2019-06-03 13:23:02.635680      6   \n",
       "1 2019-11-15 17:55:11.364877        8430 2019-06-03 13:23:02.635680      1   \n",
       "2 2019-10-07 18:23:29.611351       14338 2019-06-03 13:32:30.668460     10   \n",
       "3 2019-11-04 20:16:28.610965       14338 2019-06-03 13:32:30.668460      7   \n",
       "4 2019-12-02 20:56:55.966354       14338 2019-06-03 13:32:30.668460      9   \n",
       "5 2019-09-17 14:08:49.642430       17028 2019-06-03 14:24:06.741810      6   \n",
       "6 2019-11-11 14:42:40.889057       17028 2019-06-03 14:24:06.741810      9   \n",
       "7 2019-06-07 13:05:01.435941        3788 2019-06-03 14:48:09.129756      0   \n",
       "8 2019-06-14 12:31:58.918124        3788 2019-06-03 14:48:09.129756      0   \n",
       "9 2019-06-14 12:32:23.674673        3788 2019-06-03 14:48:09.129756      0   \n",
       "\n",
       "   running_count  \n",
       "0              1  \n",
       "1              2  \n",
       "2              1  \n",
       "3              2  \n",
       "4              3  \n",
       "5              1  \n",
       "6              2  \n",
       "7              1  \n",
       "8              2  \n",
       "9              3  "
      ]
     },
     "execution_count": 30,
     "metadata": {},
     "output_type": "execute_result"
    }
   ],
   "source": [
    "# labeling each row as the # of tests the patient has taken at that point\n",
    "new_df = data[0:0].copy()\n",
    "\n",
    "# progress bar set up\n",
    "loopy_count = 0 \n",
    "length = len(data['patient_id'].unique())\n",
    "\n",
    "# looping through each patient\n",
    "for patient in data['patient_id'].unique():\n",
    "    working_df = data[data['patient_id'] == patient]\n",
    "    working_df = working_df.sort_values('date')\n",
    "    working_df['running_count'] = np.arange(1, len(working_df) + 1)\n",
    "    new_df = pd.concat([new_df, working_df], ignore_index = True)\n",
    "    \n",
    "    j = (loopy_count + 1) / length\n",
    "    loopy_count += 1\n",
    "    sys.stdout.write('\\r')\n",
    "    sys.stdout.write(\"[%-20s] %d%%\" % ('='*int(20*j), 100*j))\n",
    "    sys.stdout.flush()\n",
    "new_df['running_count'] = (new_df['running_count']).astype(int)\n",
    "new_df.head(10)"
   ]
  },
  {
   "cell_type": "code",
   "execution_count": 72,
   "metadata": {},
   "outputs": [
    {
     "name": "stdout",
     "output_type": "stream",
     "text": [
      "15502 first assessments 10905 second assessments\n",
      "4597 patients took the GAD-7 test only once\n"
     ]
    }
   ],
   "source": [
    "print(f\"{len(new_df[new_df['running_count'] == 1])} first assessments\", \n",
    "      f\"{len(new_df[new_df['running_count'] == 2])} second assessments\")\n",
    "print(f\"{len(new_df[new_df['running_count'] == 1]) - len(new_df[new_df['running_count'] == 2])} patients took the\"\n",
    "      + \" GAD-7 test only once\")"
   ]
  },
  {
   "cell_type": "markdown",
   "metadata": {},
   "source": [
    "#### insights so far: \n",
    "- there are 15,502 patients who took the assessment at least once\n",
    "- of those 15,502, 10,905 went on to take more than 1\n",
    "- 4,597 patients stopped taking these assessments after the first\n",
    "- there are a handful of patients who took the assessment more than 20 times\n",
    "- the most assessments a single patient took was 84, followed by 42"
   ]
  },
  {
   "cell_type": "code",
   "execution_count": 96,
   "metadata": {},
   "outputs": [],
   "source": [
    "# get 2 new dataframes, one with patients who only took 1 test, another with patients who took more than 1 test\n",
    "index_of_patients = new_df['patient_id'].value_counts().index\n",
    "single_test_patients = [index_of_patients[i] for i in np.arange(len(new_df['patient_id'].value_counts())) \n",
    " if list(new_df['patient_id'].value_counts())[i] == 1]\n",
    "multi_test_patients = [index_of_patients[i] for i in np.arange(len(new_df['patient_id'].value_counts())) \n",
    " if list(new_df['patient_id'].value_counts())[i] > 1]"
   ]
  },
  {
   "cell_type": "code",
   "execution_count": 100,
   "metadata": {},
   "outputs": [
    {
     "data": {
      "text/html": [
       "<div>\n",
       "<style scoped>\n",
       "    .dataframe tbody tr th:only-of-type {\n",
       "        vertical-align: middle;\n",
       "    }\n",
       "\n",
       "    .dataframe tbody tr th {\n",
       "        vertical-align: top;\n",
       "    }\n",
       "\n",
       "    .dataframe thead th {\n",
       "        text-align: right;\n",
       "    }\n",
       "</style>\n",
       "<table border=\"1\" class=\"dataframe\">\n",
       "  <thead>\n",
       "    <tr style=\"text-align: right;\">\n",
       "      <th></th>\n",
       "      <th>date</th>\n",
       "      <th>patient_id</th>\n",
       "      <th>patient_date_created</th>\n",
       "      <th>score</th>\n",
       "      <th>running_count</th>\n",
       "    </tr>\n",
       "  </thead>\n",
       "  <tbody>\n",
       "    <tr>\n",
       "      <th>166</th>\n",
       "      <td>2019-06-16 17:58:41.376908</td>\n",
       "      <td>13646</td>\n",
       "      <td>2019-06-05 17:37:07.918028</td>\n",
       "      <td>7</td>\n",
       "      <td>1</td>\n",
       "    </tr>\n",
       "    <tr>\n",
       "      <th>167</th>\n",
       "      <td>2019-08-07 13:31:39.723182</td>\n",
       "      <td>16983</td>\n",
       "      <td>2019-06-05 18:46:47.124059</td>\n",
       "      <td>2</td>\n",
       "      <td>1</td>\n",
       "    </tr>\n",
       "    <tr>\n",
       "      <th>168</th>\n",
       "      <td>2019-06-16 09:49:57.421986</td>\n",
       "      <td>3245</td>\n",
       "      <td>2019-06-05 18:47:53.591077</td>\n",
       "      <td>11</td>\n",
       "      <td>1</td>\n",
       "    </tr>\n",
       "    <tr>\n",
       "      <th>180</th>\n",
       "      <td>2019-07-31 21:02:33.977812</td>\n",
       "      <td>17973</td>\n",
       "      <td>2019-06-05 19:38:41.070446</td>\n",
       "      <td>15</td>\n",
       "      <td>1</td>\n",
       "    </tr>\n",
       "    <tr>\n",
       "      <th>189</th>\n",
       "      <td>2019-06-16 12:10:21.668107</td>\n",
       "      <td>9098</td>\n",
       "      <td>2019-06-05 20:08:04.727758</td>\n",
       "      <td>20</td>\n",
       "      <td>1</td>\n",
       "    </tr>\n",
       "  </tbody>\n",
       "</table>\n",
       "</div>"
      ],
      "text/plain": [
       "                          date  patient_id       patient_date_created  score  \\\n",
       "166 2019-06-16 17:58:41.376908       13646 2019-06-05 17:37:07.918028      7   \n",
       "167 2019-08-07 13:31:39.723182       16983 2019-06-05 18:46:47.124059      2   \n",
       "168 2019-06-16 09:49:57.421986        3245 2019-06-05 18:47:53.591077     11   \n",
       "180 2019-07-31 21:02:33.977812       17973 2019-06-05 19:38:41.070446     15   \n",
       "189 2019-06-16 12:10:21.668107        9098 2019-06-05 20:08:04.727758     20   \n",
       "\n",
       "     running_count  \n",
       "166              1  \n",
       "167              1  \n",
       "168              1  \n",
       "180              1  \n",
       "189              1  "
      ]
     },
     "execution_count": 100,
     "metadata": {},
     "output_type": "execute_result"
    }
   ],
   "source": [
    "single_test_df = new_df[[(i in single_test_patients) for i in new_df['patient_id']]]\n",
    "multi_test_df = new_df[[(i in multi_test_patients) for i in new_df['patient_id']]]\n",
    "single_test_df.head()"
   ]
  },
  {
   "cell_type": "code",
   "execution_count": 114,
   "metadata": {},
   "outputs": [
    {
     "data": {
      "text/plain": [
       "5.0"
      ]
     },
     "execution_count": 114,
     "metadata": {},
     "output_type": "execute_result"
    }
   ],
   "source": [
    "np.median(list(single_test_df['score']))"
   ]
  },
  {
   "cell_type": "code",
   "execution_count": 163,
   "metadata": {},
   "outputs": [
    {
     "data": {
      "image/png": "[encoded data removed]",
      "text/plain": [
       "<Figure size 720x432 with 1 Axes>"
      ]
     },
     "metadata": {
      "needs_background": "light"
     },
     "output_type": "display_data"
    }
   ],
   "source": [
    "fig, ax = plt.subplots(figsize = [10, 6])\n",
    "this_data = list(single_test_df['score'])\n",
    "sns.histplot(x = this_data, bins = np.arange(min(this_data), max(this_data) + 1), stat = 'density', ax = ax)\n",
    "sns.scatterplot(x = np.median(list(single_test_df['score'])), y = [0.02], s = [150])\n",
    "ax.annotate('median', xy = [np.median(list(single_test_df['score'])), 0.025])\n",
    "ax.set_title('Distribution of First GAD-7 Assessment Scores for Patients Who Took The Test Once')\n",
    "ax.set_xlabel('GAD-7 Score')\n",
    "plt.show()"
   ]
  },
  {
   "cell_type": "markdown",
   "metadata": {},
   "source": [
    "#### Insights from this visualization:\n",
    "- Nothing conclusive, preliminary thoughts were that single tested patients would have a much higher density of lower scores, indicating they didn't need further treatment and therefore no need for more tests\n",
    "- The median of these scores is 5, important for comparison later to see if these scores are distributed higher or lower\n",
    "- Need to examine multi-timed assessment takers to analyze differences"
   ]
  },
  {
   "cell_type": "code",
   "execution_count": 133,
   "metadata": {},
   "outputs": [
    {
     "data": {
      "image/png": "[encoded data removed]",
      "text/plain": [
       "<Figure size 1080x360 with 2 Axes>"
      ]
     },
     "metadata": {
      "needs_background": "light"
     },
     "output_type": "display_data"
    }
   ],
   "source": [
    "fig, (ax1, ax2) = plt.subplots(1, 2, figsize = [15, 5])\n",
    "first_test_scores = list(multi_test_df[multi_test_df['running_count'] == 1]['score'])\n",
    "second_test_scores = list(multi_test_df[multi_test_df['running_count'] == 2]['score'])\n",
    "sns.histplot(x = first_test_scores, \n",
    "                  bins=np.arange(min(first_test_scores), max(first_test_scores) + 1), ax = ax1, stat = 'density')\n",
    "sns.scatterplot(x = np.median(first_test_scores), y = [0.02], s = [150], ax = ax1)\n",
    "ax1.annotate('median', xy = [np.median(first_test_scores), 0.025])\n",
    "ax1.set_title(\"Distribution of GAD-7 Scores upon Patient's First Assessment\")\n",
    "ax1.set_xlabel(\"GAD-7 Score\")\n",
    "ax1.set_ylim(ymax = 0.25, ymin = 0)\n",
    "\n",
    "sns.histplot(x = second_test_scores, \n",
    "                  bins=np.arange(min(second_test_scores), max(second_test_scores) + 1), ax = ax2, stat = 'density')\n",
    "sns.scatterplot(x = np.median(second_test_scores), y = [0.02], s = [150], ax = ax2)\n",
    "ax2.annotate('median', xy = [np.median(second_test_scores), 0.025])\n",
    "ax2.set_title(\"Distribution of GAD-7 Scores upon Patient's Second Assessment\")\n",
    "ax2.set_xlabel(\"GAD-7 Score\")\n",
    "ax2.set_ylim(ymax = 0.25, ymin = 0)\n",
    "plt.show()"
   ]
  },
  {
   "cell_type": "markdown",
   "metadata": {},
   "source": [
    "#### Insights from these visualizations:\n",
    "- Alot:\n",
    "- Comparing within these two graphs of multi-timed assessment takers, we see a large leftward shift of the distribution in between the first and second assessment, indicating positive improvement or successful treatment in between assessments\n",
    "    - The 0 and 1 GAD-7 score bars heighten noticably while the higher score bars lower noticably\n",
    "- We also see the median shift from 4 to 3, also indicating overall improvements\n",
    "- Comparing multi-timed assessment takers first test results to the single-timed assessment takers first test results, we see a more leftward shift as well. This means that the results of multi-timed test takers started off more positive compared to single-timed test takers.\n",
    "- To some degree, whatever treatments take place within the 1st and 2nd tests have an overarching positive result in terms of GAD-7 scores"
   ]
  },
  {
   "cell_type": "code",
   "execution_count": 160,
   "metadata": {},
   "outputs": [
    {
     "data": {
      "image/png": "[encoded data removed]",
      "text/plain": [
       "<Figure size 1080x504 with 1 Axes>"
      ]
     },
     "metadata": {
      "needs_background": "light"
     },
     "output_type": "display_data"
    }
   ],
   "source": [
    "# Analyzing changes in the distribution in between GAD-7 tests using median as the metric\n",
    "medians = multi_test_df.groupby('running_count', as_index = False).median().drop(columns = ['patient_id'])\n",
    "medians['count'] = list(multi_test_df.groupby('running_count', as_index = False).count()['score'])\n",
    "fig, ax = plt.subplots(figsize = [15, 7])\n",
    "sns.scatterplot(x = medians['running_count'], y = medians['score'], size = medians['count'])\n",
    "sns.lineplot(x = medians['running_count'], y = medians['score'])\n",
    "ax.set_title('Median Score vs # of Tests Taken where Size is # of Patients')\n",
    "ax.set_ylabel('Median Score')\n",
    "ax.set_xlabel('# of Tests Taken')\n",
    "plt.show()"
   ]
  },
  {
   "cell_type": "markdown",
   "metadata": {},
   "source": [
    "#### Insights:\n",
    "- For the first 6 assessments, the therapy or treatments in between seem to have a positive impact on lowering these scores, shown by the median steadily decreasing\n",
    "- However, after the first 6, our median begins to rise again possibly explained by the fact that the sample size begins to taper off, leaving only the individuals who have not gotten better within the first 6 assessment periods. These patients continuing to take these assessments would naturally be harder to provided therapy and treatment for and we therefore wouldn't see much improvement within the results of these tests regardless."
   ]
  },
  {
   "cell_type": "code",
   "execution_count": 170,
   "metadata": {},
   "outputs": [
    {
     "data": {
      "text/html": [
       "<div>\n",
       "<style scoped>\n",
       "    .dataframe tbody tr th:only-of-type {\n",
       "        vertical-align: middle;\n",
       "    }\n",
       "\n",
       "    .dataframe tbody tr th {\n",
       "        vertical-align: top;\n",
       "    }\n",
       "\n",
       "    .dataframe thead th {\n",
       "        text-align: right;\n",
       "    }\n",
       "</style>\n",
       "<table border=\"1\" class=\"dataframe\">\n",
       "  <thead>\n",
       "    <tr style=\"text-align: right;\">\n",
       "      <th></th>\n",
       "      <th>date</th>\n",
       "      <th>patient_id</th>\n",
       "      <th>patient_date_created</th>\n",
       "      <th>score</th>\n",
       "    </tr>\n",
       "  </thead>\n",
       "  <tbody>\n",
       "    <tr>\n",
       "      <th>0</th>\n",
       "      <td>2019-08-26 13:32:43.019162</td>\n",
       "      <td>8430</td>\n",
       "      <td>2019-06-03 13:23:02.635680</td>\n",
       "      <td>6</td>\n",
       "    </tr>\n",
       "    <tr>\n",
       "      <th>1</th>\n",
       "      <td>2019-11-15 17:55:11.364877</td>\n",
       "      <td>8430</td>\n",
       "      <td>2019-06-03 13:23:02.635680</td>\n",
       "      <td>1</td>\n",
       "    </tr>\n",
       "    <tr>\n",
       "      <th>2</th>\n",
       "      <td>2019-10-07 18:23:29.611351</td>\n",
       "      <td>14338</td>\n",
       "      <td>2019-06-03 13:32:30.668460</td>\n",
       "      <td>10</td>\n",
       "    </tr>\n",
       "    <tr>\n",
       "      <th>3</th>\n",
       "      <td>2019-11-04 20:16:28.610965</td>\n",
       "      <td>14338</td>\n",
       "      <td>2019-06-03 13:32:30.668460</td>\n",
       "      <td>7</td>\n",
       "    </tr>\n",
       "    <tr>\n",
       "      <th>4</th>\n",
       "      <td>2019-12-02 20:56:55.966354</td>\n",
       "      <td>14338</td>\n",
       "      <td>2019-06-03 13:32:30.668460</td>\n",
       "      <td>9</td>\n",
       "    </tr>\n",
       "    <tr>\n",
       "      <th>...</th>\n",
       "      <td>...</td>\n",
       "      <td>...</td>\n",
       "      <td>...</td>\n",
       "      <td>...</td>\n",
       "    </tr>\n",
       "    <tr>\n",
       "      <th>53693</th>\n",
       "      <td>2020-07-31 13:59:13.201741</td>\n",
       "      <td>10683</td>\n",
       "      <td>2020-07-31 13:54:20.164253</td>\n",
       "      <td>1</td>\n",
       "    </tr>\n",
       "    <tr>\n",
       "      <th>53694</th>\n",
       "      <td>2020-07-31 15:08:56.079027</td>\n",
       "      <td>12344</td>\n",
       "      <td>2020-07-31 15:06:51.043730</td>\n",
       "      <td>1</td>\n",
       "    </tr>\n",
       "    <tr>\n",
       "      <th>53695</th>\n",
       "      <td>2020-07-31 15:52:50.353265</td>\n",
       "      <td>17475</td>\n",
       "      <td>2020-07-31 15:40:07.726529</td>\n",
       "      <td>7</td>\n",
       "    </tr>\n",
       "    <tr>\n",
       "      <th>53696</th>\n",
       "      <td>2020-07-31 17:36:57.057913</td>\n",
       "      <td>9069</td>\n",
       "      <td>2020-07-31 17:33:27.096572</td>\n",
       "      <td>3</td>\n",
       "    </tr>\n",
       "    <tr>\n",
       "      <th>53697</th>\n",
       "      <td>2020-07-31 17:58:53.067462</td>\n",
       "      <td>4870</td>\n",
       "      <td>2020-07-31 17:58:21.004418</td>\n",
       "      <td>4</td>\n",
       "    </tr>\n",
       "  </tbody>\n",
       "</table>\n",
       "<p>53698 rows × 4 columns</p>\n",
       "</div>"
      ],
      "text/plain": [
       "                            date  patient_id       patient_date_created  score\n",
       "0     2019-08-26 13:32:43.019162        8430 2019-06-03 13:23:02.635680      6\n",
       "1     2019-11-15 17:55:11.364877        8430 2019-06-03 13:23:02.635680      1\n",
       "2     2019-10-07 18:23:29.611351       14338 2019-06-03 13:32:30.668460     10\n",
       "3     2019-11-04 20:16:28.610965       14338 2019-06-03 13:32:30.668460      7\n",
       "4     2019-12-02 20:56:55.966354       14338 2019-06-03 13:32:30.668460      9\n",
       "...                          ...         ...                        ...    ...\n",
       "53693 2020-07-31 13:59:13.201741       10683 2020-07-31 13:54:20.164253      1\n",
       "53694 2020-07-31 15:08:56.079027       12344 2020-07-31 15:06:51.043730      1\n",
       "53695 2020-07-31 15:52:50.353265       17475 2020-07-31 15:40:07.726529      7\n",
       "53696 2020-07-31 17:36:57.057913        9069 2020-07-31 17:33:27.096572      3\n",
       "53697 2020-07-31 17:58:53.067462        4870 2020-07-31 17:58:21.004418      4\n",
       "\n",
       "[53698 rows x 4 columns]"
      ]
     },
     "execution_count": 170,
     "metadata": {},
     "output_type": "execute_result"
    }
   ],
   "source": [
    "data"
   ]
  },
  {
   "cell_type": "code",
   "execution_count": 172,
   "metadata": {},
   "outputs": [
    {
     "data": {
      "text/html": [
       "<div>\n",
       "<style scoped>\n",
       "    .dataframe tbody tr th:only-of-type {\n",
       "        vertical-align: middle;\n",
       "    }\n",
       "\n",
       "    .dataframe tbody tr th {\n",
       "        vertical-align: top;\n",
       "    }\n",
       "\n",
       "    .dataframe thead th {\n",
       "        text-align: right;\n",
       "    }\n",
       "</style>\n",
       "<table border=\"1\" class=\"dataframe\">\n",
       "  <thead>\n",
       "    <tr style=\"text-align: right;\">\n",
       "      <th></th>\n",
       "      <th>date</th>\n",
       "      <th>patient_id</th>\n",
       "      <th>patient_date_created</th>\n",
       "      <th>score</th>\n",
       "    </tr>\n",
       "  </thead>\n",
       "  <tbody>\n",
       "    <tr>\n",
       "      <th>0</th>\n",
       "      <td>2019-08-26 13:32:43.019162</td>\n",
       "      <td>8430</td>\n",
       "      <td>2019-06-03 13:23:02.635680</td>\n",
       "      <td>6</td>\n",
       "    </tr>\n",
       "    <tr>\n",
       "      <th>1</th>\n",
       "      <td>2019-11-15 17:55:11.364877</td>\n",
       "      <td>8430</td>\n",
       "      <td>2019-06-03 13:23:02.635680</td>\n",
       "      <td>1</td>\n",
       "    </tr>\n",
       "  </tbody>\n",
       "</table>\n",
       "</div>"
      ],
      "text/plain": [
       "                        date  patient_id       patient_date_created  score\n",
       "0 2019-08-26 13:32:43.019162        8430 2019-06-03 13:23:02.635680      6\n",
       "1 2019-11-15 17:55:11.364877        8430 2019-06-03 13:23:02.635680      1"
      ]
     },
     "execution_count": 172,
     "metadata": {},
     "output_type": "execute_result"
    }
   ],
   "source": [
    "data[data['patient_id'] == 8430]"
   ]
  },
  {
   "cell_type": "code",
   "execution_count": 180,
   "metadata": {},
   "outputs": [],
   "source": [
    "# Graphing tool to help hospitals visualize improvements\n",
    "def graph_it(patient_ids, df):\n",
    "    '''\n",
    "    Given a list of patients IDs, or single patient ID, and a dataframe resembling the one provided,\n",
    "    returns a line plot of all the patient's scores as a time series\n",
    "    '''\n",
    "    if not isinstance(patient_ids, list):\n",
    "        patient_ids = [patient_ids]\n",
    "    fig, ax = plt.subplots(len(patient_ids), figsize = [14, 4 * len(patient_ids)])\n",
    "    count = 0\n",
    "    for patient_id in patient_ids:\n",
    "        working = df[df['patient_id'] == patient_id]\n",
    "        if len(patient_ids) > 1:\n",
    "            sns.lineplot(data = working, x = 'date', y = 'score', ax = ax[count])\n",
    "            sns.scatterplot(data = working, x = 'date', y = 'score', ax = ax[count])\n",
    "        else:\n",
    "            sns.lineplot(data = working, x = 'date', y = 'score', ax = ax)\n",
    "            sns.scatterplot(data = working, x = 'date', y = 'score', ax = ax)\n",
    "        count += 1\n",
    "    plt.show()\n",
    "    return"
   ]
  },
  {
   "cell_type": "code",
   "execution_count": 185,
   "metadata": {},
   "outputs": [
    {
     "data": {
      "image/png": "[encoded data removed]",
      "text/plain": [
       "<Figure size 1008x288 with 1 Axes>"
      ]
     },
     "metadata": {
      "needs_background": "light"
     },
     "output_type": "display_data"
    }
   ],
   "source": [
    "graph_it(10687, data)"
   ]
  },
  {
   "cell_type": "code",
   "execution_count": 184,
   "metadata": {
    "scrolled": false
   },
   "outputs": [
    {
     "data": {
      "image/png": "[encoded data removed]",
      "text/plain": [
       "<Figure size 1008x864 with 3 Axes>"
      ]
     },
     "metadata": {
      "needs_background": "light"
     },
     "output_type": "display_data"
    }
   ],
   "source": [
    "graph_it([8430, 4870, 14338], data)"
   ]
  },
  {
   "cell_type": "markdown",
   "metadata": {},
   "source": [
    "#### Moving forward from this visualization:\n",
    "- A more interactive widget on a website or portal wouldbe helpful for hospitals to use on their own software\n",
    "- An option to overlay all inputted patient ID charts onto one visual for easier comparison\n",
    "- An option to compare the patient with other patients' charts that match the # of tests, diagnosis, and treatment"
   ]
  },
  {
   "cell_type": "markdown",
   "metadata": {},
   "source": [
    "#### Additional Data that would be helpful to have:\n",
    "- The types of treatment these patients would be recieving in between assessments\n",
    "    - Visualizing trends and differences between different types of treatment could help determine which treatments work best within what periods of treatments and for how long they are effective\n",
    "- The types anxiety disorders each patient is initially diagnosed with and finally diagnosed with\n",
    "    - Having these data combined with the treatment data from above would help formulate effective treatment plans for different types of illnesses, both before and after we have a complete diagnosis. "
   ]
  },
  {
   "cell_type": "markdown",
   "metadata": {},
   "source": [
    "## Part 2"
   ]
  },
  {
   "cell_type": "code",
   "execution_count": 186,
   "metadata": {},
   "outputs": [],
   "source": [
    "import sqlite3"
   ]
  },
  {
   "cell_type": "markdown",
   "metadata": {},
   "source": [
    "### #1"
   ]
  },
  {
   "cell_type": "code",
   "execution_count": null,
   "metadata": {},
   "outputs": [],
   "source": [
    "\"\"\"\n",
    "WITH cohorts as (\n",
    "  SELECT\n",
    "    date_trunc('month', u.created_at)::date as cohort_month, u.user_id\n",
    "  FROM users u\n",
    ")\n",
    "SELECT \n",
    "FROM cohorts c, exercises e\n",
    "WHERE c.user_id = e.user_id\n",
    "\"\"\""
   ]
  },
  {
   "cell_type": "markdown",
   "metadata": {},
   "source": [
    "### #2"
   ]
  },
  {
   "cell_type": "code",
   "execution_count": 187,
   "metadata": {},
   "outputs": [
    {
     "data": {
      "text/plain": [
       "'\\nWITH prep as \\n(SELECT COUNT(e.user_id) AS cnt, e.user_id AS id \\n    FROM exercises e \\n    GROUP BY e.user_id)\\nSELECT COUNT(cnt), cnt \\nFROM prep \\nGROUP BY cnt\\n'"
      ]
     },
     "execution_count": 187,
     "metadata": {},
     "output_type": "execute_result"
    }
   ],
   "source": [
    "\"\"\"\n",
    "WITH prep as \n",
    "(SELECT COUNT(e.user_id) AS cnt, e.user_id AS id \n",
    "    FROM exercises e \n",
    "    GROUP BY e.user_id)\n",
    "SELECT COUNT(cnt), cnt \n",
    "FROM prep \n",
    "GROUP BY cnt\n",
    "\"\"\""
   ]
  },
  {
   "cell_type": "markdown",
   "metadata": {},
   "source": [
    "### #3"
   ]
  },
  {
   "cell_type": "code",
   "execution_count": 188,
   "metadata": {},
   "outputs": [
    {
     "data": {
      "text/plain": [
       "'\\nSELECT p.organization_name\\nFROM Providers p, Phq9 q\\nWHERE p.provider_id = q.provider_id\\nGROUP BY p.organization_name\\nORDER BY AVG(SCORE) DESC\\nLIMIT 5\\n'"
      ]
     },
     "execution_count": 188,
     "metadata": {},
     "output_type": "execute_result"
    }
   ],
   "source": [
    "\"\"\"\n",
    "SELECT p.organization_name\n",
    "FROM Providers p, Phq9 q\n",
    "WHERE p.provider_id = q.provider_id\n",
    "GROUP BY p.organization_name\n",
    "ORDER BY AVG(SCORE) DESC\n",
    "LIMIT 5\n",
    "\"\"\""
   ]
  },
  {
   "cell_type": "code",
   "execution_count": null,
   "metadata": {},
   "outputs": [],
   "source": []
  },
  {
   "cell_type": "code",
   "execution_count": null,
   "metadata": {},
   "outputs": [],
   "source": []
  },
  {
   "cell_type": "code",
   "execution_count": null,
   "metadata": {},
   "outputs": [],
   "source": []
  },
  {
   "cell_type": "code",
   "execution_count": null,
   "metadata": {},
   "outputs": [],
   "source": []
  },
  {
   "cell_type": "code",
   "execution_count": null,
   "metadata": {},
   "outputs": [],
   "source": []
  },
  {
   "cell_type": "code",
   "execution_count": null,
   "metadata": {},
   "outputs": [],
   "source": []
  }
 ],
 "metadata": {
  "kernelspec": {
   "display_name": "Python 3",
   "language": "python",
   "name": "python3"
  },
  "language_info": {
   "codemirror_mode": {
    "name": "ipython",
    "version": 3
   },
   "file_extension": ".py",
   "mimetype": "text/x-python",
   "name": "python",
   "nbconvert_exporter": "python",
   "pygments_lexer": "ipython3",
   "version": "3.8.5"
  }
 },
 "nbformat": 4,
 "nbformat_minor": 4
}
